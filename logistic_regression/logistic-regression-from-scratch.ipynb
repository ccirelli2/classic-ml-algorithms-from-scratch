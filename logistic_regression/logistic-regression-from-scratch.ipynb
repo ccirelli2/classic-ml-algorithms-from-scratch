{
 "cells": [
  {
   "cell_type": "markdown",
   "metadata": {},
   "source": [
    "# Tutorial\n",
    "---\n",
    "\n",
    "### Logistic Regression Explained\n",
    "- A linear regression model predicts a value of the targeted variable through a linear combination of the given features.\n",
    "- Logistic regression predicts a probability value through a linear combination of the given features plugged into a logistic function (inverse logit)\n",
    "- The logistic function log(p/1-p) is a simple strategy to map the linear combionation of z lying in the -inf, inf range to the probability interval of [0,1].  Here \"z\" is the log(odd) or logit or log(p/1-p).\n",
    "- In the logistic regression model the predicted value or the range of the mapping is confined to [0,1]\n",
    "- The logit function log(p/1-p) could transform the probability space of [0,1] to a space stretching to (-inf, inf)\n",
    "\n",
    "#### Logistic Regression Method\n",
    "- Map class probability [0,1] vs variable {R} or our x values to a space of logit{R} vs variable {R}, which is a fancy way of saying we apply the logist fucntion log(p/1-p) to the y axis or y values?\n",
    "- Once transformed, we perform a regression like fitting by adjusting the coefficients and slope in order to maximize the likelihood\n",
    "- We then remap Logit{R} vs variable {R} back to class probability [0,1] vs variable{R} using the inverse of the logit function.\n",
    "- Iteratively performing this cycle A > B > A would result in the best fitting sqiggly line.\n",
    "\n",
    "#### Insights\n",
    "- The reason we transform a space of 0,1 to -inf,inf is because it will make the fitting problem very close to solving a linear regression problem.\n",
    "\n",
    "\n",
    "\n",
    "### References\n",
    "- https://www.analyticsvidhya.com/blog/2022/02/implementing-logistic-regression-from-scratch-using-python/\n",
    "- https://link.medium.com/lRXrg4FP6yb\n",
    "\n",
    "\n"
   ]
  },
  {
   "cell_type": "markdown",
   "metadata": {},
   "source": [
    "### Import Libaries"
   ]
  },
  {
   "cell_type": "code",
   "execution_count": 54,
   "metadata": {
    "collapsed": true
   },
   "outputs": [],
   "source": [
    "import os\n",
    "import pandas as pd\n",
    "import numpy as np\n",
    "from numpy import log, dot, e, shape\n",
    "import matplotlib.pyplot as plt\n",
    "\n",
    "from sklearn.datasets import make_classification\n",
    "from sklearn.model_selection import train_test_split  \n"
   ]
  },
  {
   "cell_type": "markdown",
   "metadata": {},
   "source": [
    "<b>\n",
    "\n",
    "---\n",
    "## Visualizing The Transformation\n",
    "---\n",
    "\n",
    "<b>"
   ]
  },
  {
   "cell_type": "markdown",
   "metadata": {},
   "source": [
    "### Plot Sample Data"
   ]
  },
  {
   "cell_type": "code",
   "execution_count": 41,
   "metadata": {
    "collapsed": true
   },
   "outputs": [],
   "source": [
    "sample_df = pd.DataFrame({\n",
    "    \"x\": [5.6, 5.6, 5.5, 4.9, 5.0, 5.8, 5.6, 5.0, 4.9, 5.4],\n",
    "    \"y\": [0, 0, 1, 1, 1, 0, 0, 1, 1, 1]\n",
    "})"
   ]
  },
  {
   "cell_type": "code",
   "execution_count": 42,
   "metadata": {},
   "outputs": [
    {
     "data": {
      "image/png": "[encoded data removed]",
      "text/plain": [
       "<matplotlib.figure.Figure at 0x119e1d6a0>"
      ]
     },
     "metadata": {},
     "output_type": "display_data"
    }
   ],
   "source": [
    "plt.scatter(x=sample_df.x, y=sample_df.y)\n",
    "plt.show()"
   ]
  },
  {
   "cell_type": "markdown",
   "metadata": {},
   "source": [
    "### Generate Sample Probabilities w/ range [1,0]"
   ]
  },
  {
   "cell_type": "code",
   "execution_count": 43,
   "metadata": {},
   "outputs": [],
   "source": [
    "prob = np.arange(start=0, stop=1, step=0.01)"
   ]
  },
  {
   "cell_type": "code",
   "execution_count": 44,
   "metadata": {},
   "outputs": [
    {
     "data": {
      "image/png": "[encoded data removed]",
      "text/plain": [
       "<matplotlib.figure.Figure at 0x119ff9048>"
      ]
     },
     "metadata": {},
     "output_type": "display_data"
    }
   ],
   "source": [
    "plt.plot(prob)\n",
    "plt.show()"
   ]
  },
  {
   "cell_type": "markdown",
   "metadata": {},
   "source": [
    "### Calculate the Odds Ratio"
   ]
  },
  {
   "cell_type": "code",
   "execution_count": 45,
   "metadata": {},
   "outputs": [],
   "source": [
    "odds = prob / (1-prob)"
   ]
  },
  {
   "cell_type": "code",
   "execution_count": 46,
   "metadata": {},
   "outputs": [
    {
     "data": {
      "image/png": "[encoded data removed]",
      "text/plain": [
       "<matplotlib.figure.Figure at 0x11a01ab38>"
      ]
     },
     "metadata": {},
     "output_type": "display_data"
    }
   ],
   "source": [
    "plt.plot(odds)\n",
    "plt.show()"
   ]
  },
  {
   "cell_type": "markdown",
   "metadata": {},
   "source": [
    "### Calculate Log Odds"
   ]
  },
  {
   "cell_type": "code",
   "execution_count": 47,
   "metadata": {},
   "outputs": [
    {
     "name": "stderr",
     "output_type": "stream",
     "text": [
      "/Users/ccirelli2/anaconda/lib/python3.6/site-packages/ipykernel/__main__.py:1: RuntimeWarning: divide by zero encountered in log\n",
      "  if __name__ == '__main__':\n"
     ]
    }
   ],
   "source": [
    "log_odds = np.log(odds)"
   ]
  },
  {
   "cell_type": "code",
   "execution_count": 48,
   "metadata": {},
   "outputs": [
    {
     "data": {
      "image/png": "[encoded data removed]",
      "text/plain": [
       "<matplotlib.figure.Figure at 0x11a1b1c88>"
      ]
     },
     "metadata": {},
     "output_type": "display_data"
    }
   ],
   "source": [
    "plt.plot(log_odds)\n",
    "plt.show()"
   ]
  },
  {
   "cell_type": "markdown",
   "metadata": {},
   "source": [
    "### Visualizate All Data in DataFrame"
   ]
  },
  {
   "cell_type": "code",
   "execution_count": 49,
   "metadata": {},
   "outputs": [],
   "source": [
    "df_comp = pd.DataFrame({\n",
    "    \"Prob\": prob,\n",
    "    \"Odds\": odds,\n",
    "    \"Log_Odds\": log_odds\n",
    "})"
   ]
  },
  {
   "cell_type": "code",
   "execution_count": 51,
   "metadata": {},
   "outputs": [
    {
     "data": {
      "text/html": [
       "<div>\n",
       "<table border=\"1\" class=\"dataframe\">\n",
       "  <thead>\n",
       "    <tr style=\"text-align: right;\">\n",
       "      <th></th>\n",
       "      <th>Prob</th>\n",
       "      <th>Odds</th>\n",
       "      <th>Log_Odds</th>\n",
       "    </tr>\n",
       "  </thead>\n",
       "  <tbody>\n",
       "    <tr>\n",
       "      <th>0</th>\n",
       "      <td>0.00</td>\n",
       "      <td>0.000000</td>\n",
       "      <td>-inf</td>\n",
       "    </tr>\n",
       "    <tr>\n",
       "      <th>1</th>\n",
       "      <td>0.01</td>\n",
       "      <td>0.010101</td>\n",
       "      <td>-4.595120</td>\n",
       "    </tr>\n",
       "    <tr>\n",
       "      <th>2</th>\n",
       "      <td>0.02</td>\n",
       "      <td>0.020408</td>\n",
       "      <td>-3.891820</td>\n",
       "    </tr>\n",
       "    <tr>\n",
       "      <th>3</th>\n",
       "      <td>0.03</td>\n",
       "      <td>0.030928</td>\n",
       "      <td>-3.476099</td>\n",
       "    </tr>\n",
       "    <tr>\n",
       "      <th>4</th>\n",
       "      <td>0.04</td>\n",
       "      <td>0.041667</td>\n",
       "      <td>-3.178054</td>\n",
       "    </tr>\n",
       "    <tr>\n",
       "      <th>5</th>\n",
       "      <td>0.05</td>\n",
       "      <td>0.052632</td>\n",
       "      <td>-2.944439</td>\n",
       "    </tr>\n",
       "    <tr>\n",
       "      <th>6</th>\n",
       "      <td>0.06</td>\n",
       "      <td>0.063830</td>\n",
       "      <td>-2.751535</td>\n",
       "    </tr>\n",
       "    <tr>\n",
       "      <th>7</th>\n",
       "      <td>0.07</td>\n",
       "      <td>0.075269</td>\n",
       "      <td>-2.586689</td>\n",
       "    </tr>\n",
       "    <tr>\n",
       "      <th>8</th>\n",
       "      <td>0.08</td>\n",
       "      <td>0.086957</td>\n",
       "      <td>-2.442347</td>\n",
       "    </tr>\n",
       "    <tr>\n",
       "      <th>9</th>\n",
       "      <td>0.09</td>\n",
       "      <td>0.098901</td>\n",
       "      <td>-2.313635</td>\n",
       "    </tr>\n",
       "    <tr>\n",
       "      <th>10</th>\n",
       "      <td>0.10</td>\n",
       "      <td>0.111111</td>\n",
       "      <td>-2.197225</td>\n",
       "    </tr>\n",
       "    <tr>\n",
       "      <th>11</th>\n",
       "      <td>0.11</td>\n",
       "      <td>0.123596</td>\n",
       "      <td>-2.090741</td>\n",
       "    </tr>\n",
       "    <tr>\n",
       "      <th>12</th>\n",
       "      <td>0.12</td>\n",
       "      <td>0.136364</td>\n",
       "      <td>-1.992430</td>\n",
       "    </tr>\n",
       "    <tr>\n",
       "      <th>13</th>\n",
       "      <td>0.13</td>\n",
       "      <td>0.149425</td>\n",
       "      <td>-1.900959</td>\n",
       "    </tr>\n",
       "    <tr>\n",
       "      <th>14</th>\n",
       "      <td>0.14</td>\n",
       "      <td>0.162791</td>\n",
       "      <td>-1.815290</td>\n",
       "    </tr>\n",
       "    <tr>\n",
       "      <th>15</th>\n",
       "      <td>0.15</td>\n",
       "      <td>0.176471</td>\n",
       "      <td>-1.734601</td>\n",
       "    </tr>\n",
       "    <tr>\n",
       "      <th>16</th>\n",
       "      <td>0.16</td>\n",
       "      <td>0.190476</td>\n",
       "      <td>-1.658228</td>\n",
       "    </tr>\n",
       "    <tr>\n",
       "      <th>17</th>\n",
       "      <td>0.17</td>\n",
       "      <td>0.204819</td>\n",
       "      <td>-1.585627</td>\n",
       "    </tr>\n",
       "    <tr>\n",
       "      <th>18</th>\n",
       "      <td>0.18</td>\n",
       "      <td>0.219512</td>\n",
       "      <td>-1.516347</td>\n",
       "    </tr>\n",
       "    <tr>\n",
       "      <th>19</th>\n",
       "      <td>0.19</td>\n",
       "      <td>0.234568</td>\n",
       "      <td>-1.450010</td>\n",
       "    </tr>\n",
       "    <tr>\n",
       "      <th>20</th>\n",
       "      <td>0.20</td>\n",
       "      <td>0.250000</td>\n",
       "      <td>-1.386294</td>\n",
       "    </tr>\n",
       "    <tr>\n",
       "      <th>21</th>\n",
       "      <td>0.21</td>\n",
       "      <td>0.265823</td>\n",
       "      <td>-1.324925</td>\n",
       "    </tr>\n",
       "    <tr>\n",
       "      <th>22</th>\n",
       "      <td>0.22</td>\n",
       "      <td>0.282051</td>\n",
       "      <td>-1.265666</td>\n",
       "    </tr>\n",
       "    <tr>\n",
       "      <th>23</th>\n",
       "      <td>0.23</td>\n",
       "      <td>0.298701</td>\n",
       "      <td>-1.208311</td>\n",
       "    </tr>\n",
       "    <tr>\n",
       "      <th>24</th>\n",
       "      <td>0.24</td>\n",
       "      <td>0.315789</td>\n",
       "      <td>-1.152680</td>\n",
       "    </tr>\n",
       "    <tr>\n",
       "      <th>25</th>\n",
       "      <td>0.25</td>\n",
       "      <td>0.333333</td>\n",
       "      <td>-1.098612</td>\n",
       "    </tr>\n",
       "    <tr>\n",
       "      <th>26</th>\n",
       "      <td>0.26</td>\n",
       "      <td>0.351351</td>\n",
       "      <td>-1.045969</td>\n",
       "    </tr>\n",
       "    <tr>\n",
       "      <th>27</th>\n",
       "      <td>0.27</td>\n",
       "      <td>0.369863</td>\n",
       "      <td>-0.994623</td>\n",
       "    </tr>\n",
       "    <tr>\n",
       "      <th>28</th>\n",
       "      <td>0.28</td>\n",
       "      <td>0.388889</td>\n",
       "      <td>-0.944462</td>\n",
       "    </tr>\n",
       "    <tr>\n",
       "      <th>29</th>\n",
       "      <td>0.29</td>\n",
       "      <td>0.408451</td>\n",
       "      <td>-0.895384</td>\n",
       "    </tr>\n",
       "    <tr>\n",
       "      <th>...</th>\n",
       "      <td>...</td>\n",
       "      <td>...</td>\n",
       "      <td>...</td>\n",
       "    </tr>\n",
       "    <tr>\n",
       "      <th>70</th>\n",
       "      <td>0.70</td>\n",
       "      <td>2.333333</td>\n",
       "      <td>0.847298</td>\n",
       "    </tr>\n",
       "    <tr>\n",
       "      <th>71</th>\n",
       "      <td>0.71</td>\n",
       "      <td>2.448276</td>\n",
       "      <td>0.895384</td>\n",
       "    </tr>\n",
       "    <tr>\n",
       "      <th>72</th>\n",
       "      <td>0.72</td>\n",
       "      <td>2.571429</td>\n",
       "      <td>0.944462</td>\n",
       "    </tr>\n",
       "    <tr>\n",
       "      <th>73</th>\n",
       "      <td>0.73</td>\n",
       "      <td>2.703704</td>\n",
       "      <td>0.994623</td>\n",
       "    </tr>\n",
       "    <tr>\n",
       "      <th>74</th>\n",
       "      <td>0.74</td>\n",
       "      <td>2.846154</td>\n",
       "      <td>1.045969</td>\n",
       "    </tr>\n",
       "    <tr>\n",
       "      <th>75</th>\n",
       "      <td>0.75</td>\n",
       "      <td>3.000000</td>\n",
       "      <td>1.098612</td>\n",
       "    </tr>\n",
       "    <tr>\n",
       "      <th>76</th>\n",
       "      <td>0.76</td>\n",
       "      <td>3.166667</td>\n",
       "      <td>1.152680</td>\n",
       "    </tr>\n",
       "    <tr>\n",
       "      <th>77</th>\n",
       "      <td>0.77</td>\n",
       "      <td>3.347826</td>\n",
       "      <td>1.208311</td>\n",
       "    </tr>\n",
       "    <tr>\n",
       "      <th>78</th>\n",
       "      <td>0.78</td>\n",
       "      <td>3.545455</td>\n",
       "      <td>1.265666</td>\n",
       "    </tr>\n",
       "    <tr>\n",
       "      <th>79</th>\n",
       "      <td>0.79</td>\n",
       "      <td>3.761905</td>\n",
       "      <td>1.324925</td>\n",
       "    </tr>\n",
       "    <tr>\n",
       "      <th>80</th>\n",
       "      <td>0.80</td>\n",
       "      <td>4.000000</td>\n",
       "      <td>1.386294</td>\n",
       "    </tr>\n",
       "    <tr>\n",
       "      <th>81</th>\n",
       "      <td>0.81</td>\n",
       "      <td>4.263158</td>\n",
       "      <td>1.450010</td>\n",
       "    </tr>\n",
       "    <tr>\n",
       "      <th>82</th>\n",
       "      <td>0.82</td>\n",
       "      <td>4.555556</td>\n",
       "      <td>1.516347</td>\n",
       "    </tr>\n",
       "    <tr>\n",
       "      <th>83</th>\n",
       "      <td>0.83</td>\n",
       "      <td>4.882353</td>\n",
       "      <td>1.585627</td>\n",
       "    </tr>\n",
       "    <tr>\n",
       "      <th>84</th>\n",
       "      <td>0.84</td>\n",
       "      <td>5.250000</td>\n",
       "      <td>1.658228</td>\n",
       "    </tr>\n",
       "    <tr>\n",
       "      <th>85</th>\n",
       "      <td>0.85</td>\n",
       "      <td>5.666667</td>\n",
       "      <td>1.734601</td>\n",
       "    </tr>\n",
       "    <tr>\n",
       "      <th>86</th>\n",
       "      <td>0.86</td>\n",
       "      <td>6.142857</td>\n",
       "      <td>1.815290</td>\n",
       "    </tr>\n",
       "    <tr>\n",
       "      <th>87</th>\n",
       "      <td>0.87</td>\n",
       "      <td>6.692308</td>\n",
       "      <td>1.900959</td>\n",
       "    </tr>\n",
       "    <tr>\n",
       "      <th>88</th>\n",
       "      <td>0.88</td>\n",
       "      <td>7.333333</td>\n",
       "      <td>1.992430</td>\n",
       "    </tr>\n",
       "    <tr>\n",
       "      <th>89</th>\n",
       "      <td>0.89</td>\n",
       "      <td>8.090909</td>\n",
       "      <td>2.090741</td>\n",
       "    </tr>\n",
       "    <tr>\n",
       "      <th>90</th>\n",
       "      <td>0.90</td>\n",
       "      <td>9.000000</td>\n",
       "      <td>2.197225</td>\n",
       "    </tr>\n",
       "    <tr>\n",
       "      <th>91</th>\n",
       "      <td>0.91</td>\n",
       "      <td>10.111111</td>\n",
       "      <td>2.313635</td>\n",
       "    </tr>\n",
       "    <tr>\n",
       "      <th>92</th>\n",
       "      <td>0.92</td>\n",
       "      <td>11.500000</td>\n",
       "      <td>2.442347</td>\n",
       "    </tr>\n",
       "    <tr>\n",
       "      <th>93</th>\n",
       "      <td>0.93</td>\n",
       "      <td>13.285714</td>\n",
       "      <td>2.586689</td>\n",
       "    </tr>\n",
       "    <tr>\n",
       "      <th>94</th>\n",
       "      <td>0.94</td>\n",
       "      <td>15.666667</td>\n",
       "      <td>2.751535</td>\n",
       "    </tr>\n",
       "    <tr>\n",
       "      <th>95</th>\n",
       "      <td>0.95</td>\n",
       "      <td>19.000000</td>\n",
       "      <td>2.944439</td>\n",
       "    </tr>\n",
       "    <tr>\n",
       "      <th>96</th>\n",
       "      <td>0.96</td>\n",
       "      <td>24.000000</td>\n",
       "      <td>3.178054</td>\n",
       "    </tr>\n",
       "    <tr>\n",
       "      <th>97</th>\n",
       "      <td>0.97</td>\n",
       "      <td>32.333333</td>\n",
       "      <td>3.476099</td>\n",
       "    </tr>\n",
       "    <tr>\n",
       "      <th>98</th>\n",
       "      <td>0.98</td>\n",
       "      <td>49.000000</td>\n",
       "      <td>3.891820</td>\n",
       "    </tr>\n",
       "    <tr>\n",
       "      <th>99</th>\n",
       "      <td>0.99</td>\n",
       "      <td>99.000000</td>\n",
       "      <td>4.595120</td>\n",
       "    </tr>\n",
       "  </tbody>\n",
       "</table>\n",
       "<p>100 rows × 3 columns</p>\n",
       "</div>"
      ],
      "text/plain": [
       "    Prob       Odds  Log_Odds\n",
       "0   0.00   0.000000      -inf\n",
       "1   0.01   0.010101 -4.595120\n",
       "2   0.02   0.020408 -3.891820\n",
       "3   0.03   0.030928 -3.476099\n",
       "4   0.04   0.041667 -3.178054\n",
       "5   0.05   0.052632 -2.944439\n",
       "6   0.06   0.063830 -2.751535\n",
       "7   0.07   0.075269 -2.586689\n",
       "8   0.08   0.086957 -2.442347\n",
       "9   0.09   0.098901 -2.313635\n",
       "10  0.10   0.111111 -2.197225\n",
       "11  0.11   0.123596 -2.090741\n",
       "12  0.12   0.136364 -1.992430\n",
       "13  0.13   0.149425 -1.900959\n",
       "14  0.14   0.162791 -1.815290\n",
       "15  0.15   0.176471 -1.734601\n",
       "16  0.16   0.190476 -1.658228\n",
       "17  0.17   0.204819 -1.585627\n",
       "18  0.18   0.219512 -1.516347\n",
       "19  0.19   0.234568 -1.450010\n",
       "20  0.20   0.250000 -1.386294\n",
       "21  0.21   0.265823 -1.324925\n",
       "22  0.22   0.282051 -1.265666\n",
       "23  0.23   0.298701 -1.208311\n",
       "24  0.24   0.315789 -1.152680\n",
       "25  0.25   0.333333 -1.098612\n",
       "26  0.26   0.351351 -1.045969\n",
       "27  0.27   0.369863 -0.994623\n",
       "28  0.28   0.388889 -0.944462\n",
       "29  0.29   0.408451 -0.895384\n",
       "..   ...        ...       ...\n",
       "70  0.70   2.333333  0.847298\n",
       "71  0.71   2.448276  0.895384\n",
       "72  0.72   2.571429  0.944462\n",
       "73  0.73   2.703704  0.994623\n",
       "74  0.74   2.846154  1.045969\n",
       "75  0.75   3.000000  1.098612\n",
       "76  0.76   3.166667  1.152680\n",
       "77  0.77   3.347826  1.208311\n",
       "78  0.78   3.545455  1.265666\n",
       "79  0.79   3.761905  1.324925\n",
       "80  0.80   4.000000  1.386294\n",
       "81  0.81   4.263158  1.450010\n",
       "82  0.82   4.555556  1.516347\n",
       "83  0.83   4.882353  1.585627\n",
       "84  0.84   5.250000  1.658228\n",
       "85  0.85   5.666667  1.734601\n",
       "86  0.86   6.142857  1.815290\n",
       "87  0.87   6.692308  1.900959\n",
       "88  0.88   7.333333  1.992430\n",
       "89  0.89   8.090909  2.090741\n",
       "90  0.90   9.000000  2.197225\n",
       "91  0.91  10.111111  2.313635\n",
       "92  0.92  11.500000  2.442347\n",
       "93  0.93  13.285714  2.586689\n",
       "94  0.94  15.666667  2.751535\n",
       "95  0.95  19.000000  2.944439\n",
       "96  0.96  24.000000  3.178054\n",
       "97  0.97  32.333333  3.476099\n",
       "98  0.98  49.000000  3.891820\n",
       "99  0.99  99.000000  4.595120\n",
       "\n",
       "[100 rows x 3 columns]"
      ]
     },
     "execution_count": 51,
     "metadata": {},
     "output_type": "execute_result"
    }
   ],
   "source": [
    "df_comp[[\"Prob\", \"Odds\", \"Log_Odds\"]]"
   ]
  },
  {
   "cell_type": "markdown",
   "metadata": {},
   "source": [
    "<b>\n",
    "\n",
    "---\n",
    "## Train Model From Scratch\n",
    "---\n",
    "\n",
    "<b>"
   ]
  },
  {
   "cell_type": "markdown",
   "metadata": {},
   "source": [
    "### Generate Dataset"
   ]
  },
  {
   "cell_type": "code",
   "execution_count": 56,
   "metadata": {
    "collapsed": true
   },
   "outputs": [],
   "source": [
    "X,y = make_classification(n_features = 4,n_classes=2)"
   ]
  },
  {
   "cell_type": "markdown",
   "metadata": {},
   "source": [
    "### Crate Train Test Split"
   ]
  },
  {
   "cell_type": "code",
   "execution_count": null,
   "metadata": {
    "collapsed": true
   },
   "outputs": [],
   "source": [
    "X_tr,X_te,y_tr,y_te = train_test_split(X,y,test_size=0.1)\n",
    "\n",
    "print(X_tr.shape, X_te.shape)"
   ]
  },
  {
   "cell_type": "code",
   "execution_count": null,
   "metadata": {
    "collapsed": true
   },
   "outputs": [],
   "source": []
  },
  {
   "cell_type": "code",
   "execution_count": null,
   "metadata": {
    "collapsed": true
   },
   "outputs": [],
   "source": []
  },
  {
   "cell_type": "code",
   "execution_count": null,
   "metadata": {
    "collapsed": true
   },
   "outputs": [],
   "source": []
  },
  {
   "cell_type": "code",
   "execution_count": null,
   "metadata": {
    "collapsed": true
   },
   "outputs": [],
   "source": []
  },
  {
   "cell_type": "code",
   "execution_count": null,
   "metadata": {
    "collapsed": true
   },
   "outputs": [],
   "source": []
  },
  {
   "cell_type": "code",
   "execution_count": null,
   "metadata": {
    "collapsed": true
   },
   "outputs": [],
   "source": []
  }
 ],
 "metadata": {
  "kernelspec": {
   "display_name": "Python 3",
   "language": "python",
   "name": "python3"
  },
  "language_info": {
   "codemirror_mode": {
    "name": "ipython",
    "version": 3
   },
   "file_extension": ".py",
   "mimetype": "text/x-python",
   "name": "python",
   "nbconvert_exporter": "python",
   "pygments_lexer": "ipython3",
   "version": "3.6.1"
  }
 },
 "nbformat": 4,
 "nbformat_minor": 2
}
